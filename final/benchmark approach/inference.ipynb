{
 "cells": [
  {
   "cell_type": "code",
   "execution_count": 2,
   "metadata": {},
   "outputs": [
    {
     "name": "stdout",
     "output_type": "stream",
     "text": [
      "env: CUDA_VISIBLE_DEVICES=1\n"
     ]
    }
   ],
   "source": [
    "import pandas as pd \n",
    "import numpy as np\n",
    "from keras.models import Sequential\n",
    "from keras.layers import Dense, Input\n",
    "from keras.layers import Dropout\n",
    "from keras.callbacks import EarlyStopping\n",
    "from keras.applications.inception_v3 import InceptionV3\n",
    "from keras.applications.mobilenet import MobileNet\n",
    "from keras.layers import merge, Conv2D, MaxPooling2D, GlobalAveragePooling1D, Flatten, GlobalAveragePooling2D, ZeroPadding2D\n",
    "from keras.models import load_model, Model\n",
    "from keras.layers.normalization import BatchNormalization\n",
    "from keras.callbacks import History ,ModelCheckpoint\n",
    "from keras.layers import Activation, LeakyReLU, GlobalMaxPooling2D\n",
    "from keras.preprocessing.image import ImageDataGenerator\n",
    "from keras.optimizers import Adam\n",
    "from keras.models import load_model\n",
    "import collections\n",
    "import sys\n",
    "import pickle\n",
    "import os\n",
    "\n",
    "import matplotlib.pyplot as plt\n",
    "import skimage\n",
    "import skimage.io\n",
    "from sklearn import preprocessing\n",
    "from squeezenet import SqueezeNet\n",
    "\n",
    "%matplotlib inline\n",
    "%env CUDA_VISIBLE_DEVICES=1"
   ]
  },
  {
   "cell_type": "code",
   "execution_count": 16,
   "metadata": {
    "collapsed": true
   },
   "outputs": [],
   "source": [
    "with open(\"../dlcv_final_2_dataset/train_id.txt\",\"r\") as f:\n",
    "    train_y = f.readlines()\n",
    "    train_y = np.array([line.strip().split(\" \")[1] for line in train_y])\n",
    "lb = preprocessing.LabelBinarizer()\n",
    "train_y_onehot = lb.fit_transform(train_y)"
   ]
  },
  {
   "cell_type": "code",
   "execution_count": null,
   "metadata": {
    "collapsed": true
   },
   "outputs": [],
   "source": []
  },
  {
   "cell_type": "code",
   "execution_count": 3,
   "metadata": {},
   "outputs": [
    {
     "name": "stderr",
     "output_type": "stream",
     "text": [
      "/home/thtang/.local/lib/python3.5/site-packages/keras/engine/topology.py:1271: UserWarning: The `Merge` layer is deprecated and will be removed after 08/2017. Use instead layers from `keras.layers.merge`, e.g. `add`, `concatenate`, etc.\n",
      "  return cls(**config)\n"
     ]
    }
   ],
   "source": [
    "model = load_model('../models/weights.89-0.59.hdf5')"
   ]
  },
  {
   "cell_type": "code",
   "execution_count": 4,
   "metadata": {
    "collapsed": true
   },
   "outputs": [],
   "source": [
    "test_X = np.load(\"../features/test_X.npy\")/255"
   ]
  },
  {
   "cell_type": "code",
   "execution_count": 7,
   "metadata": {},
   "outputs": [],
   "source": [
    "prediction = model.predict(test_X)"
   ]
  },
  {
   "cell_type": "code",
   "execution_count": 14,
   "metadata": {},
   "outputs": [],
   "source": [
    "predict_y = np.argmax(prediction, axis=1)"
   ]
  },
  {
   "cell_type": "code",
   "execution_count": 20,
   "metadata": {},
   "outputs": [
    {
     "data": {
      "text/plain": [
       "189"
      ]
     },
     "execution_count": 20,
     "metadata": {},
     "output_type": "execute_result"
    }
   ],
   "source": [
    "predict_y[0]"
   ]
  },
  {
   "cell_type": "code",
   "execution_count": 21,
   "metadata": {},
   "outputs": [],
   "source": [
    "test_y=lb.inverse_transform(prediction)"
   ]
  },
  {
   "cell_type": "code",
   "execution_count": 23,
   "metadata": {},
   "outputs": [
    {
     "name": "stdout",
     "output_type": "stream",
     "text": [
      "__________________________________________________________________________________________________\n",
      "Layer (type)                    Output Shape         Param #     Connected to                     \n",
      "==================================================================================================\n",
      "input_1 (InputLayer)            (None, 120, 90, 3)   0                                            \n",
      "__________________________________________________________________________________________________\n",
      "conv1 (Conv2D)                  (None, 57, 42, 96)   14208       input_1[0][0]                    \n",
      "__________________________________________________________________________________________________\n",
      "maxpool1 (MaxPooling2D)         (None, 28, 20, 96)   0           conv1[0][0]                      \n",
      "__________________________________________________________________________________________________\n",
      "fire2_squeeze (Conv2D)          (None, 28, 20, 16)   1552        maxpool1[0][0]                   \n",
      "__________________________________________________________________________________________________\n",
      "fire2_squeeze_bn (BatchNormaliz (None, 28, 20, 16)   64          fire2_squeeze[0][0]              \n",
      "__________________________________________________________________________________________________\n",
      "fire2_expand_1x1 (Conv2D)       (None, 28, 20, 64)   1088        fire2_squeeze_bn[0][0]           \n",
      "__________________________________________________________________________________________________\n",
      "fire2_expand_3x3 (Conv2D)       (None, 28, 20, 64)   9280        fire2_squeeze_bn[0][0]           \n",
      "__________________________________________________________________________________________________\n",
      "fire2_expand_merge (Merge)      (None, 28, 20, 128)  0           fire2_expand_1x1[0][0]           \n",
      "                                                                 fire2_expand_3x3[0][0]           \n",
      "__________________________________________________________________________________________________\n",
      "fire3_squeeze (Conv2D)          (None, 28, 20, 16)   2064        fire2_expand_merge[0][0]         \n",
      "__________________________________________________________________________________________________\n",
      "fire3_squeeze_bn (BatchNormaliz (None, 28, 20, 16)   64          fire3_squeeze[0][0]              \n",
      "__________________________________________________________________________________________________\n",
      "fire3_expand_1x1 (Conv2D)       (None, 28, 20, 64)   1088        fire3_squeeze_bn[0][0]           \n",
      "__________________________________________________________________________________________________\n",
      "fire3_expand_3x3 (Conv2D)       (None, 28, 20, 64)   9280        fire3_squeeze_bn[0][0]           \n",
      "__________________________________________________________________________________________________\n",
      "fire3_expand_merge (Merge)      (None, 28, 20, 128)  0           fire3_expand_1x1[0][0]           \n",
      "                                                                 fire3_expand_3x3[0][0]           \n",
      "__________________________________________________________________________________________________\n",
      "fire4_squeeze (Conv2D)          (None, 28, 20, 32)   4128        fire3_expand_merge[0][0]         \n",
      "__________________________________________________________________________________________________\n",
      "fire4_squeeze_bn (BatchNormaliz (None, 28, 20, 32)   128         fire4_squeeze[0][0]              \n",
      "__________________________________________________________________________________________________\n",
      "fire4_expand_1x1 (Conv2D)       (None, 28, 20, 128)  4224        fire4_squeeze_bn[0][0]           \n",
      "__________________________________________________________________________________________________\n",
      "fire4_expand_3x3 (Conv2D)       (None, 28, 20, 128)  36992       fire4_squeeze_bn[0][0]           \n",
      "__________________________________________________________________________________________________\n",
      "fire4_expand_merge (Merge)      (None, 28, 20, 256)  0           fire4_expand_1x1[0][0]           \n",
      "                                                                 fire4_expand_3x3[0][0]           \n",
      "__________________________________________________________________________________________________\n",
      "maxpool4 (MaxPooling2D)         (None, 13, 9, 256)   0           fire4_expand_merge[0][0]         \n",
      "__________________________________________________________________________________________________\n",
      "fire5_squeeze (Conv2D)          (None, 13, 9, 32)    8224        maxpool4[0][0]                   \n",
      "__________________________________________________________________________________________________\n",
      "fire5_squeeze_bn (BatchNormaliz (None, 13, 9, 32)    128         fire5_squeeze[0][0]              \n",
      "__________________________________________________________________________________________________\n",
      "fire5_expand_1x1 (Conv2D)       (None, 13, 9, 128)   4224        fire5_squeeze_bn[0][0]           \n",
      "__________________________________________________________________________________________________\n",
      "fire5_expand_3x3 (Conv2D)       (None, 13, 9, 128)   36992       fire5_squeeze_bn[0][0]           \n",
      "__________________________________________________________________________________________________\n",
      "fire5_expand_merge (Merge)      (None, 13, 9, 256)   0           fire5_expand_1x1[0][0]           \n",
      "                                                                 fire5_expand_3x3[0][0]           \n",
      "__________________________________________________________________________________________________\n",
      "fire6_squeeze (Conv2D)          (None, 13, 9, 48)    12336       fire5_expand_merge[0][0]         \n",
      "__________________________________________________________________________________________________\n",
      "fire6_squeeze_bn (BatchNormaliz (None, 13, 9, 48)    192         fire6_squeeze[0][0]              \n",
      "__________________________________________________________________________________________________\n",
      "fire6_expand_1x1 (Conv2D)       (None, 13, 9, 192)   9408        fire6_squeeze_bn[0][0]           \n",
      "__________________________________________________________________________________________________\n",
      "fire6_expand_3x3 (Conv2D)       (None, 13, 9, 192)   83136       fire6_squeeze_bn[0][0]           \n",
      "__________________________________________________________________________________________________\n",
      "fire6_expand_merge (Merge)      (None, 13, 9, 384)   0           fire6_expand_1x1[0][0]           \n",
      "                                                                 fire6_expand_3x3[0][0]           \n",
      "__________________________________________________________________________________________________\n",
      "fire7_squeeze (Conv2D)          (None, 13, 9, 48)    18480       fire6_expand_merge[0][0]         \n",
      "__________________________________________________________________________________________________\n",
      "fire7_squeeze_bn (BatchNormaliz (None, 13, 9, 48)    192         fire7_squeeze[0][0]              \n",
      "__________________________________________________________________________________________________\n",
      "fire7_expand_1x1 (Conv2D)       (None, 13, 9, 192)   9408        fire7_squeeze_bn[0][0]           \n",
      "__________________________________________________________________________________________________\n",
      "fire7_expand_3x3 (Conv2D)       (None, 13, 9, 192)   83136       fire7_squeeze_bn[0][0]           \n",
      "__________________________________________________________________________________________________\n",
      "fire7_expand_merge (Merge)      (None, 13, 9, 384)   0           fire7_expand_1x1[0][0]           \n",
      "                                                                 fire7_expand_3x3[0][0]           \n",
      "__________________________________________________________________________________________________\n",
      "maxpool8 (MaxPooling2D)         (None, 6, 4, 384)    0           fire7_expand_merge[0][0]         \n",
      "__________________________________________________________________________________________________\n",
      "fire9_squeeze (Conv2D)          (None, 6, 4, 64)     24640       maxpool8[0][0]                   \n",
      "__________________________________________________________________________________________________\n",
      "fire9_squeeze_bn (BatchNormaliz (None, 6, 4, 64)     256         fire9_squeeze[0][0]              \n",
      "__________________________________________________________________________________________________\n",
      "fire9_expand_1x1 (Conv2D)       (None, 6, 4, 256)    16640       fire9_squeeze_bn[0][0]           \n",
      "__________________________________________________________________________________________________\n",
      "fire9_expand_3x3 (Conv2D)       (None, 6, 4, 256)    147712      fire9_squeeze_bn[0][0]           \n",
      "__________________________________________________________________________________________________\n",
      "fire9_expand_merge (Merge)      (None, 6, 4, 512)    0           fire9_expand_1x1[0][0]           \n",
      "                                                                 fire9_expand_3x3[0][0]           \n",
      "__________________________________________________________________________________________________\n",
      "fire9_dropout (Dropout)         (None, 6, 4, 512)    0           fire9_expand_merge[0][0]         \n",
      "__________________________________________________________________________________________________\n",
      "conv10 (Conv2D)                 (None, 6, 4, 2360)   1210680     fire9_dropout[0][0]              \n",
      "__________________________________________________________________________________________________\n",
      "conv10_bn (BatchNormalization)  (None, 6, 4, 2360)   9440        conv10[0][0]                     \n",
      "__________________________________________________________________________________________________\n",
      "avgpool10 (GlobalAveragePooling (None, 2360)         0           conv10_bn[0][0]                  \n",
      "__________________________________________________________________________________________________\n",
      "softmax (Activation)            (None, 2360)         0           avgpool10[0][0]                  \n",
      "==================================================================================================\n",
      "Total params: 1,759,384\n",
      "Trainable params: 1,754,152\n",
      "Non-trainable params: 5,232\n",
      "__________________________________________________________________________________________________\n",
      "None\n"
     ]
    }
   ],
   "source": [
    "print(model.summary())"
   ]
  },
  {
   "cell_type": "code",
   "execution_count": 22,
   "metadata": {
    "collapsed": true
   },
   "outputs": [],
   "source": [
    "# load SampleSubmission\n",
    "submission = pd.read_csv(\"../SampleSubmission.csv\")\n",
    "submission[\"ans\"] = test_y\n",
    "submission.to_csv(\"../test_output.csv\",index=False)"
   ]
  },
  {
   "cell_type": "code",
   "execution_count": null,
   "metadata": {
    "collapsed": true
   },
   "outputs": [],
   "source": []
  }
 ],
 "metadata": {
  "kernelspec": {
   "display_name": "Python 3",
   "language": "python",
   "name": "python3"
  },
  "language_info": {
   "codemirror_mode": {
    "name": "ipython",
    "version": 3
   },
   "file_extension": ".py",
   "mimetype": "text/x-python",
   "name": "python",
   "nbconvert_exporter": "python",
   "pygments_lexer": "ipython3",
   "version": "3.5.2"
  }
 },
 "nbformat": 4,
 "nbformat_minor": 2
}
