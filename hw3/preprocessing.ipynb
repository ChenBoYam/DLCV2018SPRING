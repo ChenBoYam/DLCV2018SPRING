{
 "cells": [
  {
   "cell_type": "code",
   "execution_count": 9,
   "metadata": {
    "collapsed": true
   },
   "outputs": [],
   "source": [
    "import skimage.io\n",
    "import os\n",
    "import matplotlib.pyplot as plt\n",
    "import numpy as np\n",
    "import torch\n",
    "from torch.utils.data import Dataset, DataLoader\n",
    "import scipy\n",
    "import scipy.misc\n",
    "%matplotlib inline"
   ]
  },
  {
   "cell_type": "code",
   "execution_count": 10,
   "metadata": {},
   "outputs": [
    {
     "name": "stdout",
     "output_type": "stream",
     "text": [
      "(2313, 3, 256, 256)\n"
     ]
    }
   ],
   "source": [
    "train_dataset_path = \"./hw3-train-validation/train/\"\n",
    "\n",
    "# construct id list\n",
    "train_image_id_list = sorted(list(set([item.split(\"_\")[0] for item in os.listdir(train_dataset_path)])))\n",
    "\n",
    "train_X = []\n",
    "train_y = []\n",
    "n_masks = len(train_image_id_list)\n",
    "masks = np.empty((n_masks, 512, 512))\n",
    "\n",
    "for i, file in enumerate(train_image_id_list):\n",
    "    X = skimage.io.imread(os.path.join(train_dataset_path, file+\"_sat.jpg\"))\n",
    "    mask = skimage.io.imread(os.path.join(train_dataset_path, file+\"_mask.png\"))\n",
    "    \n",
    "    train_X.append(X)\n",
    "    \n",
    "    mask = (mask >= 128).astype(int)\n",
    "    mask = 4 * mask[:, :, 0] + 2 * mask[:, :, 1] + mask[:, :, 2]\n",
    "    masks[i, mask == 3] = 0  # (Cyan: 011) Urban land \n",
    "    masks[i, mask == 6] = 1  # (Yellow: 110) Agriculture land \n",
    "    masks[i, mask == 5] = 2  # (Purple: 101) Rangeland \n",
    "    masks[i, mask == 2] = 3  # (Green: 010) Forest land \n",
    "    masks[i, mask == 1] = 4  # (Blue: 001) Water \n",
    "    masks[i, mask == 7] = 5  # (White: 111) Barren land \n",
    "    masks[i, mask == 0] = 6  # (Black: 000) Unknown \n",
    "    \n",
    "\n",
    "train_X = ((np.array(train_X)[:,::2,::2,:])/255).transpose(0,3,1,2)\n",
    "print(train_X.shape)\n",
    "\n",
    "train_y = masks[:,::2,::2]"
   ]
  },
  {
   "cell_type": "code",
   "execution_count": 11,
   "metadata": {},
   "outputs": [
    {
     "name": "stdout",
     "output_type": "stream",
     "text": [
      "(257, 3, 256, 256)\n",
      "(257, 512, 512)\n"
     ]
    }
   ],
   "source": [
    "valid_dataset_path = \"./hw3-train-validation/validation/\"\n",
    "\n",
    "# construct id list\n",
    "valid_image_id_list = sorted(list(set([item.split(\"_\")[0] for item in os.listdir(valid_dataset_path)])))\n",
    "\n",
    "valid_X = []\n",
    "valid_y = []\n",
    "n_masks = len(valid_image_id_list)\n",
    "masks = np.empty((n_masks, 512, 512))\n",
    "\n",
    "for i, file in enumerate(valid_image_id_list):\n",
    "    X = skimage.io.imread(os.path.join(valid_dataset_path, file+\"_sat.jpg\"))\n",
    "    mask = skimage.io.imread(os.path.join(valid_dataset_path, file+\"_mask.png\"))\n",
    "    \n",
    "    valid_X.append(X)\n",
    "    \n",
    "    mask = (mask >= 128).astype(int)\n",
    "    mask = 4 * mask[:, :, 0] + 2 * mask[:, :, 1] + mask[:, :, 2]\n",
    "    masks[i, mask == 3] = 0  # (Cyan: 011) Urban land \n",
    "    masks[i, mask == 6] = 1  # (Yellow: 110) Agriculture land \n",
    "    masks[i, mask == 5] = 2  # (Purple: 101) Rangeland \n",
    "    masks[i, mask == 2] = 3  # (Green: 010) Forest land \n",
    "    masks[i, mask == 1] = 4  # (Blue: 001) Water \n",
    "    masks[i, mask == 7] = 5  # (White: 111) Barren land \n",
    "    masks[i, mask == 0] = 6  # (Black: 000) Unknown \n",
    "    \n",
    "\n",
    "valid_X = ((np.array(valid_X)[:,::2,::2,:])/255).transpose(0,3,1,2)\n",
    "print(valid_X.shape)\n",
    "\n",
    "# we are not going to downsample the masks of validation set\n",
    "valid_y = masks\n",
    "print(valid_y.shape)"
   ]
  },
  {
   "cell_type": "code",
   "execution_count": 12,
   "metadata": {
    "collapsed": true
   },
   "outputs": [],
   "source": [
    "np.save(\"train_X.npy\", train_X)\n",
    "np.save(\"train_y.npy\", train_y)\n",
    "np.save(\"valid_X.npy\", valid_X)\n",
    "np.save(\"valid_y.npy\", valid_y)"
   ]
  },
  {
   "cell_type": "code",
   "execution_count": null,
   "metadata": {
    "collapsed": true
   },
   "outputs": [],
   "source": []
  }
 ],
 "metadata": {
  "kernelspec": {
   "display_name": "Python 3",
   "language": "python",
   "name": "python3"
  },
  "language_info": {
   "codemirror_mode": {
    "name": "ipython",
    "version": 3
   },
   "file_extension": ".py",
   "mimetype": "text/x-python",
   "name": "python",
   "nbconvert_exporter": "python",
   "pygments_lexer": "ipython3",
   "version": "3.5.2"
  }
 },
 "nbformat": 4,
 "nbformat_minor": 2
}
