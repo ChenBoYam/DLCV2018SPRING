{
 "cells": [
  {
   "cell_type": "code",
   "execution_count": 75,
   "metadata": {},
   "outputs": [],
   "source": [
    "import keras\n",
    "import skimage\n",
    "\n",
    "import numpy as np\n",
    "import skvideo.io\n",
    "import skimage.transform\n",
    "import skimage.util\n",
    "import csv\n",
    "import collections\n",
    "import os\n",
    "from os import listdir\n",
    "from keras.applications.vgg16 import VGG16\n",
    "from keras.applications.densenet  import DenseNet121\n",
    "from keras.preprocessing import image\n",
    "from keras.applications.vgg16 import preprocess_input\n",
    "import numpy as np\n",
    "\n",
    "from torchvision import transforms\n",
    "import matplotlib.pyplot as plt\n",
    "%matplotlib inline"
   ]
  },
  {
   "cell_type": "code",
   "execution_count": 76,
   "metadata": {
    "collapsed": true
   },
   "outputs": [],
   "source": [
    "def normalize(image):\n",
    "    '''\n",
    "    normalize for pre-trained model input\n",
    "    '''\n",
    "    normalize = transforms.Normalize(mean=[0.485, 0.456, 0.406], std=[0.229, 0.224, 0.225])\n",
    "    transform_input = transforms.Compose([\n",
    "             transforms.ToPILImage(),\n",
    "             transforms.Pad((0,40), fill=0, padding_mode='constant'),\n",
    "             transforms.Resize(224),\n",
    "             # transforms.CenterCrop(224),\n",
    "    #         transforms.RandomHorizontalFlip(),\n",
    "            transforms.ToTensor(),\n",
    "#             normalize\n",
    "        ])\n",
    "    image_t = transform_input(image).numpy().transpose(1,2,0)\n",
    "    # numpy output\n",
    "    return image_t\n",
    "\n",
    "def readShortVideo(video_path, video_category, video_name, downsample_factor=12, rescale_factor=1):\n",
    "    '''\n",
    "    @param video_path: video directory\n",
    "    @param video_category: video category (see csv files)\n",
    "    @param video_name: video name (unique, see csv files)\n",
    "    @param downsample_factor: number of frames between each sampled frame (e.g., downsample_factor = 12 equals 2fps)\n",
    "    @param rescale_factor: float of scale factor (rescale the image if you want to reduce computations)\n",
    "\n",
    "    @return: (T, H, W, 3) ndarray, T indicates total sampled frames, H and W is heights and widths\n",
    "    '''\n",
    "\n",
    "    filepath = video_path + '/' + video_category\n",
    "    filename = [file for file in os.listdir(filepath) if file.startswith(video_name)]\n",
    "    video = os.path.join(filepath,filename[0])\n",
    "\n",
    "    videogen = skvideo.io.vreader(video)\n",
    "    frames = []\n",
    "    \n",
    "    \n",
    "    for frameIdx, frame in enumerate(videogen):\n",
    "        if frameIdx % downsample_factor == 0:\n",
    "           # frame = skimage.transform.rescale(frame, rescale_factor, mode='constant', preserve_range=True).astype(np.uint8)\n",
    "            frame_t = normalize(frame)\n",
    "            frames.append(frame_t)\n",
    "        else:\n",
    "            continue\n",
    "\n",
    "    return frames"
   ]
  },
  {
   "cell_type": "code",
   "execution_count": 77,
   "metadata": {
    "collapsed": true
   },
   "outputs": [],
   "source": [
    "frames = readShortVideo(\"HW5_data/TrimmedVideos/video/train/\", \n",
    "                        \"OP01-R01-PastaSalad\", \"OP01-R01-PastaSalad-1002316-1004005-F024051-F024101.mp4\",\n",
    "                        downsample_factor=12, rescale_factor=1)"
   ]
  },
  {
   "cell_type": "code",
   "execution_count": 78,
   "metadata": {
    "scrolled": true
   },
   "outputs": [
    {
     "data": {
      "text/plain": [
       "(5, 224, 224, 3)"
      ]
     },
     "execution_count": 78,
     "metadata": {},
     "output_type": "execute_result"
    }
   ],
   "source": [
    "np.stack(frames).shape"
   ]
  },
  {
   "cell_type": "code",
   "execution_count": 79,
   "metadata": {},
   "outputs": [
    {
     "name": "stdout",
     "output_type": "stream",
     "text": [
      "OP01-R01-PastaSalad\n",
      "OP01-R04-ContinentalBreakfast\n",
      "OP01-R05-Cheeseburger\n",
      "OP01-R06-GreekSalad\n",
      "OP01-R07-Pizza\n",
      "OP02-R01-PastaSalad\n",
      "OP02-R02-TurkeySandwich\n",
      "OP02-R03-BaconAndEggs\n",
      "OP02-R05-Cheeseburger\n",
      "OP02-R06-GreekSalad\n",
      "OP02-R07-Pizza\n",
      "OP03-R01-PastaSalad\n",
      "OP03-R03-BaconAndEggs\n",
      "OP03-R04-ContinentalBreakfast\n",
      "OP03-R05-Cheeseburger\n",
      "OP03-R07-Pizza\n",
      "OP04-R01-PastaSalad\n",
      "OP04-R02-TurkeySandwich\n",
      "OP04-R03-BaconAndEggs\n",
      "OP04-R04-ContinentalBreakfast\n",
      "OP04-R06-GreekSalad\n",
      "OP04-R07-Pizza\n",
      "OP05-R03-BaconAndEggs\n",
      "OP05-R04-ContinentalBreakfast\n",
      "OP06-R02-TurkeySandwich\n",
      "OP06-R03-BaconAndEggs\n",
      "OP06-R04-ContinentalBreakfast\n",
      "OP06-R06-GreekSalad\n",
      "OP06-R07-Pizza\n"
     ]
    }
   ],
   "source": [
    "all_video_path = []\n",
    "all_video_frame = []\n",
    "video_path = \"HW5_data/TrimmedVideos/video/train/\"\n",
    "category_list = sorted(listdir(video_path))\n",
    "for category in category_list:\n",
    "    print(category)\n",
    "    video_list_per_folder = sorted(listdir(os.path.join(video_path,category)))\n",
    "    a = [\"-\".join(file_name.split(\"-\")[:5]) for file_name in video_list_per_folder]\n",
    "    all_video_path += a\n",
    "    for video in video_list_per_folder:\n",
    "        frames = readShortVideo(video_path, category, video, downsample_factor=12, rescale_factor=1)\n",
    "        all_video_frame.append(np.stack(frames))"
   ]
  },
  {
   "cell_type": "code",
   "execution_count": null,
   "metadata": {
    "collapsed": true
   },
   "outputs": [],
   "source": []
  }
 ],
 "metadata": {
  "kernelspec": {
   "display_name": "Python 3",
   "language": "python",
   "name": "python3"
  },
  "language_info": {
   "codemirror_mode": {
    "name": "ipython",
    "version": 3
   },
   "file_extension": ".py",
   "mimetype": "text/x-python",
   "name": "python",
   "nbconvert_exporter": "python",
   "pygments_lexer": "ipython3",
   "version": "3.5.2"
  }
 },
 "nbformat": 4,
 "nbformat_minor": 2
}
