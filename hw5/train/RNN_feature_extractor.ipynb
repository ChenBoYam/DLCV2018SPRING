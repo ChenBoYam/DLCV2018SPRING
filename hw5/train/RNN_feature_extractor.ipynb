{
 "cells": [
  {
   "cell_type": "code",
   "execution_count": null,
   "metadata": {},
   "outputs": [],
   "source": [
    "from reader import readShortVideo\n",
    "from reader import getVideoList\n",
    "import matplotlib.pyplot as plt\n",
    "from os import listdir\n",
    "import os\n",
    "import pandas as pd\n",
    "import numpy as np\n",
    "import pickle\n",
    "\n",
    "import torchvision\n",
    "import torch\n",
    "import torchvision.transforms as transforms\n",
    "from torch.utils.data import Dataset\n",
    "from torch.utils.data import DataLoader\n",
    "import torch.nn as nn\n",
    "%matplotlib inline\n",
    "%env CUDA_VISIBLE_DEVICES=0"
   ]
  },
  {
   "cell_type": "code",
   "execution_count": null,
   "metadata": {
    "collapsed": true
   },
   "outputs": [],
   "source": [
    "# load data\n",
    "class CustomDataset(Dataset):\n",
    "    def __init__(self, train_valid=\"train\"):\n",
    "        if train_valid == \"train\":\n",
    "            with open(\"../train_X.pkl\", \"rb\") as f:\n",
    "                self.X = pickle.load(f)\n",
    "            with open(\"../train_y.pkl\", \"rb\") as f:\n",
    "                self.y = pickle.load(f)\n",
    "                \n",
    "        if train_valid == \"valid\":\n",
    "            with open(\"../valid_X.pkl\", \"rb\") as f:\n",
    "                self.X = pickle.load(f)\n",
    "            with open(\"../valid_y.pkl\", \"rb\") as f:\n",
    "                self.y = pickle.load(f)\n",
    "    def __getitem__(self, index):\n",
    "        single_image = self.X[index]\n",
    "        single_label = self.y[index]\n",
    "\n",
    "        # Return image and the label\n",
    "        return single_image, single_label\n",
    "\n",
    "    def __len__(self):\n",
    "        return self.length\n",
    "\n",
    "train_dataset = CustomDataset(\"train\")\n",
    "valid_dataset = CustomDataset(\"valid\")"
   ]
  },
  {
   "cell_type": "code",
   "execution_count": null,
   "metadata": {
    "collapsed": true
   },
   "outputs": [],
   "source": [
    "cnn_feature_extractor = torchvision.models.densenet121(pretrained=True).features.cuda() # to 1000 dims"
   ]
  },
  {
   "cell_type": "code",
   "execution_count": null,
   "metadata": {
    "collapsed": true
   },
   "outputs": [],
   "source": [
    "with torch.no_grad():\n",
    "    output_size = cnn_feature_extractor(train_dataset[0][0].cuda()).size()\n",
    "print(output_size)"
   ]
  },
  {
   "cell_type": "code",
   "execution_count": null,
   "metadata": {
    "collapsed": true
   },
   "outputs": [],
   "source": [
    "# create sequential features for RNN\n",
    "feature_size = 1024*7*7\n",
    "cnn_feature_extractor.eval()\n",
    "train_features = []\n",
    "counter = 0\n",
    "with torch.no_grad():\n",
    "    for i in range(len(train_dataset.X)):\n",
    "        input_X = train_dataset[i][0]\n",
    "        feature = cnn_feature_extractor(input_X.cuda()).cpu().view(-1, feature_size)\n",
    "        train_features.append(feature)\n",
    "        counter +=1\n",
    "        if counter % 300 == 0:\n",
    "            print(counter)\n",
    "print(\"training instances done\")\n",
    "\n",
    "valid_features = []\n",
    "counter = 0\n",
    "with torch.no_grad():\n",
    "    for i in range(len(valid_dataset.X)):\n",
    "        input_X = valid_dataset[i][0]\n",
    "        feature = cnn_feature_extractor(input_X.cuda()).cpu().view(-1, feature_size)\n",
    "        valid_features.append(feature)\n",
    "        counter +=1\n",
    "        if counter % 100 == 0:\n",
    "            print(counter)"
   ]
  },
  {
   "cell_type": "code",
   "execution_count": null,
   "metadata": {
    "collapsed": true
   },
   "outputs": [],
   "source": [
    "with open(\"../train_features_d12.pkl\", \"wb\") as f:\n",
    "    pickle.dump(train_features, f)\n",
    "with open(\"../valid_features_d12.pkl\", \"wb\") as f:\n",
    "    pickle.dump(valid_features, f)\n"
   ]
  }
 ],
 "metadata": {
  "kernelspec": {
   "display_name": "Python 3",
   "language": "python",
   "name": "python3"
  },
  "language_info": {
   "codemirror_mode": {
    "name": "ipython",
    "version": 3
   },
   "file_extension": ".py",
   "mimetype": "text/x-python",
   "name": "python",
   "nbconvert_exporter": "python",
   "pygments_lexer": "ipython3",
   "version": "3.5.2"
  }
 },
 "nbformat": 4,
 "nbformat_minor": 2
}
