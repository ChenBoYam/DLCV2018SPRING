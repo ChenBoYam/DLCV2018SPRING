{
 "cells": [
  {
   "cell_type": "code",
   "execution_count": 1,
   "metadata": {},
   "outputs": [
    {
     "name": "stdout",
     "output_type": "stream",
     "text": [
      "env: CUDA_VISIBLE_DEVICES=0\n"
     ]
    }
   ],
   "source": [
    "from reader import readShortVideo\n",
    "from reader import getVideoList\n",
    "import matplotlib\n",
    "import matplotlib.pyplot as plt\n",
    "import matplotlib.ticker as ticker\n",
    "from os import listdir\n",
    "import os\n",
    "import pandas as pd\n",
    "import numpy as np\n",
    "import pickle\n",
    "\n",
    "import torchvision\n",
    "import torch\n",
    "import torchvision.transforms as transforms\n",
    "from torch.utils.data import Dataset\n",
    "from torch.utils.data import DataLoader\n",
    "import torch.nn as nn\n",
    "%matplotlib inline\n",
    "%env CUDA_VISIBLE_DEVICES=0"
   ]
  },
  {
   "cell_type": "code",
   "execution_count": 2,
   "metadata": {
    "collapsed": true
   },
   "outputs": [],
   "source": [
    "# load features \n",
    "with open(\"../features/train_cut_features_350.pkl\", \"rb\") as f:\n",
    "    train_cut_features = pickle.load(f)\n",
    "with open(\"../features/train_cut_labels_350.pkl\", \"rb\") as f:\n",
    "    train_cut_labels = pickle.load(f)\n",
    "with open(\"../features/train_cut_lengths_350.pkl\", \"rb\") as f:\n",
    "    train_cut_lengths = pickle.load(f)\n",
    "    \n",
    "with open(\"../features/valid_cut_features_no_cut.pkl\", \"rb\") as f:\n",
    "    valid_cut_features = pickle.load(f)\n",
    "with open(\"../features/valid_cut_labels_no_cut.pkl\", \"rb\") as f:\n",
    "    valid_cut_labels = pickle.load(f)\n",
    "with open(\"../features/valid_cut_lengths_no_cut.pkl\", \"rb\") as f:\n",
    "    valid_cut_lengths = pickle.load(f)    "
   ]
  },
  {
   "cell_type": "code",
   "execution_count": 3,
   "metadata": {
    "collapsed": true
   },
   "outputs": [],
   "source": [
    "weights = torch.load(\"../models/RNN_FC_model.pkt\")"
   ]
  },
  {
   "cell_type": "code",
   "execution_count": 3,
   "metadata": {
    "collapsed": true
   },
   "outputs": [],
   "source": [
    "class seq2seq(nn.Module):\n",
    "    def __init__(self, input_size, hidden_size=512, n_layers=2, dropout=0.1):\n",
    "        super(seq2seq, self).__init__()\n",
    "        self.hidden_size =  hidden_size\n",
    "        self.lstm = nn.LSTM(input_size, self.hidden_size, n_layers,\n",
    "                          dropout=(0 if n_layers == 1 else dropout), bidirectional=False,\n",
    "                           batch_first=True)\n",
    "        self.bn_0 = nn.BatchNorm1d(self.hidden_size)\n",
    "        self.fc_1 = nn.Linear(self.hidden_size, int(self.hidden_size/2))\n",
    "        self.bn_1 = nn.BatchNorm1d(int(self.hidden_size/2))\n",
    "        self.fc_2 = nn.Linear(int(self.hidden_size), 11)\n",
    "        self.softmax = nn.Softmax(1)\n",
    "        self.relu = nn.ReLU()\n",
    "        self.dropout = nn.Dropout(0.5)\n",
    "    def forward(self, padded_sequence, input_lengths, hidden=None):\n",
    "        packed = torch.nn.utils.rnn.pack_padded_sequence(padded_sequence, \n",
    "                                                         input_lengths, \n",
    "                                                         batch_first=True)\n",
    "        outputs, (hn,cn) = self.lstm(packed, hidden) # output: (seq_len, batch, hidden*n_dir)\n",
    "        \n",
    "        outputs, _ = torch.nn.utils.rnn.pad_packed_sequence(outputs, batch_first=True)\n",
    "\n",
    "        fc_output = self.fc_2(outputs)\n",
    "        return fc_output"
   ]
  },
  {
   "cell_type": "code",
   "execution_count": 4,
   "metadata": {
    "collapsed": true
   },
   "outputs": [],
   "source": [
    "def sort_pad(input_feature, input_lengths, input_labels):\n",
    "    perm_index = np.argsort(input_lengths)[::-1]\n",
    "    input_feature =  [input_feature[i] for i in perm_index]\n",
    "    input_labels =  [input_labels[i] for i in perm_index]\n",
    "    input_lengths = sorted(input_lengths, reverse=True)\n",
    "    input_feature = nn.utils.rnn.pad_sequence(input_feature, batch_first=True)\n",
    "    return input_feature, input_labels, input_lengths"
   ]
  },
  {
   "cell_type": "code",
   "execution_count": 5,
   "metadata": {
    "collapsed": true
   },
   "outputs": [],
   "source": [
    "class Loss(nn.Module):\n",
    "    def __init__(self):\n",
    "        super(Loss, self).__init__()\n",
    "\n",
    "    def forward(self, model_output, groundtruth, lengths):\n",
    "        \n",
    "        criterion = nn.CrossEntropyLoss()\n",
    "        loss = 0\n",
    "        batch_size = model_output.size()[0]\n",
    "\n",
    "        for i in range(batch_size):\n",
    "            sample_length = lengths[i]\n",
    "            target = groundtruth[i].type(torch.LongTensor).cuda()\n",
    "            prediction = model_output[i][:sample_length]\n",
    "            partial_loss = criterion(prediction, target)\n",
    "            loss += partial_loss\n",
    "        loss = loss / batch_size\n",
    "\n",
    "        return loss"
   ]
  },
  {
   "cell_type": "code",
   "execution_count": 7,
   "metadata": {
    "scrolled": true
   },
   "outputs": [
    {
     "name": "stdout",
     "output_type": "stream",
     "text": [
      "Epoch: 1\n",
      "training loss 8.909528017044067\n",
      "0\n",
      "0\n",
      "0\n",
      "0\n",
      "0\n",
      "validation accuracy:  0.4660878112712975\n",
      "Epoch: 2\n",
      "training loss 7.338753819465637\n",
      "0\n",
      "0\n",
      "0\n",
      "0\n",
      "0\n",
      "validation accuracy:  0.4660878112712975\n",
      "Epoch: 3\n",
      "training loss 6.929655313491821\n",
      "0\n",
      "0\n",
      "0\n",
      "0\n",
      "0\n",
      "validation accuracy:  0.4660878112712975\n",
      "Epoch: 4\n",
      "training loss 6.6451791524887085\n",
      "0\n",
      "0\n",
      "0\n",
      "0\n",
      "17\n",
      "validation accuracy:  0.468872870249017\n",
      "Epoch: 5\n",
      "training loss 6.36333692073822\n",
      "59\n",
      "1\n",
      "43\n",
      "12\n",
      "67\n",
      "validation accuracy:  0.48394495412844035\n",
      "Epoch: 6\n",
      "training loss 5.989698171615601\n",
      "298\n",
      "1\n",
      "45\n",
      "66\n",
      "69\n",
      "validation accuracy:  0.5044233289646134\n",
      "Epoch: 7\n",
      "training loss 5.72145676612854\n",
      "766\n",
      "101\n",
      "185\n",
      "197\n",
      "105\n",
      "validation accuracy:  0.5370249017038008\n",
      "Epoch: 8\n",
      "training loss 5.437108635902405\n",
      "801\n",
      "102\n",
      "173\n",
      "212\n",
      "105\n",
      "validation accuracy:  0.5511140235910879\n",
      "Epoch: 9\n",
      "training loss 5.143192648887634\n",
      "778\n",
      "77\n",
      "153\n",
      "208\n",
      "91\n",
      "validation accuracy:  0.5558650065530799\n",
      "Epoch: 10\n",
      "training loss 4.802034616470337\n",
      "766\n",
      "82\n",
      "168\n",
      "211\n",
      "104\n",
      "validation accuracy:  0.5548820445609436\n",
      "Epoch: 11\n",
      "training loss 4.529678821563721\n",
      "737\n",
      "60\n",
      "162\n",
      "209\n",
      "107\n",
      "validation accuracy:  0.5615989515072084\n",
      "Epoch: 12\n",
      "training loss 4.208755731582642\n",
      "709\n",
      "6\n",
      "93\n",
      "201\n",
      "116\n",
      "validation accuracy:  0.5732306684141546\n",
      "Epoch: 13\n",
      "training loss 3.9603304862976074\n",
      "720\n",
      "23\n",
      "150\n",
      "218\n",
      "221\n",
      "validation accuracy:  0.5753604193971167\n",
      "Epoch: 14\n",
      "training loss 3.5935364961624146\n",
      "673\n",
      "79\n",
      "211\n",
      "217\n",
      "256\n",
      "validation accuracy:  0.5566841415465269\n",
      "Epoch: 15\n",
      "training loss 3.347914755344391\n",
      "559\n",
      "34\n",
      "171\n",
      "203\n",
      "197\n",
      "validation accuracy:  0.549475753604194\n",
      "Epoch: 16\n",
      "training loss 3.062272608280182\n",
      "478\n",
      "54\n",
      "156\n",
      "196\n",
      "195\n",
      "validation accuracy:  0.5398099606815203\n",
      "Epoch: 17\n",
      "training loss 2.8321359753608704\n",
      "529\n",
      "93\n",
      "188\n",
      "205\n",
      "223\n",
      "validation accuracy:  0.5439056356487549\n",
      "Epoch: 18\n",
      "training loss 2.607244372367859\n",
      "576\n",
      "94\n",
      "193\n",
      "233\n",
      "244\n",
      "validation accuracy:  0.5435779816513762\n",
      "Epoch: 19\n",
      "training loss 2.3535420894622803\n",
      "518\n",
      "114\n",
      "202\n",
      "230\n",
      "245\n",
      "validation accuracy:  0.5419397116644823\n",
      "Epoch: 20\n",
      "training loss 2.2224850058555603\n",
      "530\n",
      "105\n",
      "227\n",
      "237\n",
      "254\n",
      "validation accuracy:  0.540956749672346\n"
     ]
    }
   ],
   "source": [
    "feature_size = 1024*7*7\n",
    "model = seq2seq(feature_size,hidden_size=512,dropout=0.5, n_layers=2).cuda()\n",
    "# model.load_state_dict(weights)\n",
    "\n",
    "optimizer = torch.optim.Adam(model.parameters(), lr=0.0001)\n",
    "BATCH_SIZE = 32\n",
    "loss_function = Loss().cuda()\n",
    "max_accuracy = 0\n",
    "model.train()\n",
    "for epoch in range(20):\n",
    "    print(\"Epoch:\", epoch+1)\n",
    "    CE_loss = 0.0\n",
    "    total_length = len(train_cut_features)\n",
    "    # shuffle\n",
    "    perm_index = np.random.permutation(total_length)\n",
    "    train_X_sfl = [train_cut_features[i] for i in perm_index]\n",
    "    train_y_sfl = [train_cut_labels[i] for i in perm_index]\n",
    "    train_lengths_sfl = np.array(train_cut_lengths)[perm_index]\n",
    "    # construct training batch\n",
    "    for index in range(0,total_length ,BATCH_SIZE):\n",
    "        if index+BATCH_SIZE > total_length:\n",
    "            break\n",
    "            \n",
    "        # zero the parameter gradients\n",
    "        optimizer.zero_grad()\n",
    "        input_X = train_X_sfl[index:index+BATCH_SIZE]\n",
    "        input_y = train_y_sfl[index:index+BATCH_SIZE]\n",
    "        input_lengths = train_lengths_sfl[index:index+BATCH_SIZE]\n",
    "        input_X, input_y, input_lengths = sort_pad(input_X, input_lengths, input_y)\n",
    "        # use GPU\n",
    "#         input_X = torch.nn.utils.rnn.pad_sequence(input_X).cuda()\n",
    "        # forward + backward + optimize\n",
    "        output = model(input_X.cuda(), input_lengths)\n",
    "        # compute loss for each sample in training data\n",
    "        loss = loss_function(output, input_y,input_lengths)\n",
    "        loss.backward()\n",
    "        optimizer.step()\n",
    "        CE_loss += loss.cpu().data.numpy()\n",
    "    print(\"training loss\",CE_loss)\n",
    "    \n",
    "    # validation\n",
    "    same_difference = []\n",
    "    with torch.no_grad():\n",
    "        model.eval()\n",
    "        valid_output = []\n",
    "        valid_y_list = []\n",
    "        for valid_X, valid_y, valid_lengths in zip(valid_cut_features, valid_cut_labels, \n",
    "                                                   valid_cut_lengths):\n",
    "            input_valid_X = valid_X.unsqueeze(0)\n",
    "            output = model(input_valid_X.cuda(), [valid_lengths])\n",
    "            prediction = torch.argmax(torch.squeeze(output.cpu()),1).data.numpy()\n",
    "            print(sum(prediction!=0))\n",
    "            valid_gt = np.array(valid_y)\n",
    "            same_difference.append(prediction==valid_gt)\n",
    "\n",
    "        total = []\n",
    "        for i in same_difference:\n",
    "            total+=list(i)\n",
    "        accuracy = np.mean(total)\n",
    "        print(\"validation accuracy: \",accuracy)\n",
    "    if accuracy > max_accuracy:\n",
    "        max_accuracy = accuracy\n",
    "#         torch.save(model.state_dict(), \"../models/RNN_seq2seq_model.pkt\")\n",
    "    model.train()"
   ]
  },
  {
   "cell_type": "markdown",
   "metadata": {},
   "source": [
    "# inference"
   ]
  },
  {
   "cell_type": "code",
   "execution_count": 6,
   "metadata": {
    "collapsed": true
   },
   "outputs": [],
   "source": [
    "feature_size = 1024*7*7\n",
    "model = seq2seq(feature_size,hidden_size=512,dropout=0.5, n_layers=2).cuda()\n",
    "model.load_state_dict(torch.load(\"../models/RNN_seq2seq_model.pkt\"))"
   ]
  },
  {
   "cell_type": "code",
   "execution_count": 7,
   "metadata": {
    "collapsed": true
   },
   "outputs": [],
   "source": [
    "with torch.no_grad():\n",
    "    model.eval()\n",
    "    valid_output = []\n",
    "    for valid_X, valid_lengths in zip(valid_cut_features, valid_cut_lengths):\n",
    "        input_valid_X = valid_X.unsqueeze(0)\n",
    "        output = model(input_valid_X.cuda(), [valid_lengths])\n",
    "        prediction = torch.argmax(torch.squeeze(output.cpu()),1).data.numpy()\n",
    "        valid_output.append(prediction)"
   ]
  },
  {
   "cell_type": "code",
   "execution_count": 8,
   "metadata": {
    "collapsed": true
   },
   "outputs": [],
   "source": [
    "valid_dir_name = sorted(listdir(\"../HW5_data/FullLengthVideos/videos/valid\"))"
   ]
  },
  {
   "cell_type": "code",
   "execution_count": null,
   "metadata": {
    "collapsed": true
   },
   "outputs": [],
   "source": [
    "valid_dir_name"
   ]
  },
  {
   "cell_type": "code",
   "execution_count": 29,
   "metadata": {
    "collapsed": true
   },
   "outputs": [],
   "source": [
    "output_folder = \"../output/\"\n",
    "for i in range(len(valid_dir_name)):\n",
    "    with open(os.path.join(output_folder, valid_dir_name[i]+'.txt'), \"w\") as f:\n",
    "        for j, pred in enumerate(valid_output[i]):\n",
    "            f.write(str(pred))\n",
    "            if j != len(valid_output[i])-1:\n",
    "                f.write(\"\\n\")"
   ]
  },
  {
   "cell_type": "markdown",
   "metadata": {
    "collapsed": true
   },
   "source": [
    "# visualization"
   ]
  },
  {
   "cell_type": "code",
   "execution_count": 20,
   "metadata": {
    "scrolled": true
   },
   "outputs": [
    {
     "data": {
      "image/png": "[encoded data removed]",
      "text/plain": [
       "<Figure size 1152x288 with 2 Axes>"
      ]
     },
     "metadata": {},
     "output_type": "display_data"
    }
   ],
   "source": [
    "# reference: https://matplotlib.org/2.0.2/examples/api/colorbar_only.html\n",
    "video_num = 4\n",
    "test = valid_output[video_num][544:844]\n",
    "answer = valid_cut_labels[video_num][544:844]\n",
    "plt.figure(figsize=(16,4))\n",
    "ax = plt.subplot(211)\n",
    "\n",
    "# colors = [\"wheat\", \"turqoise\", \"teal\", \"sienna\", \"salmon\", \"orange\", \n",
    "#           \"lightblue\", \"lavender\", \"gold\", \"darkblue\", \"azure\"]\n",
    "colors = plt.cm.get_cmap('tab20',11).colors\n",
    "cmap = matplotlib.colors.ListedColormap([colors[idx] for idx in test])\n",
    "# cmap = plt.cm.get_cmap(\"tab20\", 11)\n",
    "bounds = [i for i in range(len(test))]\n",
    "norm = matplotlib.colors.BoundaryNorm(bounds, cmap.N)\n",
    "cb1 = matplotlib.colorbar.ColorbarBase(ax, cmap=cmap,\n",
    "                                       norm=norm,\n",
    "                                       boundaries=bounds,\n",
    "                                       spacing='proportional',\n",
    "                                       orientation='horizontal',\n",
    "                                       ticks= range(544,844))\n",
    "ax.set_ylabel('Prediction')\n",
    "\n",
    "ax2 = plt.subplot(212)\n",
    "cmap = matplotlib.colors.ListedColormap([colors[idx] for idx in answer])\n",
    "bounds = [i for i in range(len(test))]\n",
    "norm = matplotlib.colors.BoundaryNorm(bounds, cmap.N)\n",
    "cb2 = matplotlib.colorbar.ColorbarBase(ax2, cmap=cmap,\n",
    "                                       norm=norm,\n",
    "                                       boundaries=bounds,\n",
    "                                       spacing='proportional',\n",
    "                                       orientation='horizontal',\n",
    "                                       ticks= list(range(544,844)))\n",
    "\n",
    "\n",
    "ax2.set_ylabel('GroundTruth')\n",
    "\n",
    "plt.savefig(\"temporal_action_segmentation.png\")\n",
    "plt.show()"
   ]
  },
  {
   "cell_type": "code",
   "execution_count": null,
   "metadata": {
    "collapsed": true
   },
   "outputs": [],
   "source": []
  }
 ],
 "metadata": {
  "kernelspec": {
   "display_name": "Python 3",
   "language": "python",
   "name": "python3"
  },
  "language_info": {
   "codemirror_mode": {
    "name": "ipython",
    "version": 3
   },
   "file_extension": ".py",
   "mimetype": "text/x-python",
   "name": "python",
   "nbconvert_exporter": "python",
   "pygments_lexer": "ipython3",
   "version": "3.5.2"
  }
 },
 "nbformat": 4,
 "nbformat_minor": 2
}
