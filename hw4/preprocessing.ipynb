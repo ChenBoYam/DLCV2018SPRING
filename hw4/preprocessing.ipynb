{
 "cells": [
  {
   "cell_type": "code",
   "execution_count": 2,
   "metadata": {
    "collapsed": true
   },
   "outputs": [],
   "source": [
    "import numpy as np\n",
    "import matplotlib.pyplot as plt \n",
    "import skimage.io\n",
    "import os\n",
    "from os import listdir\n",
    "import pandas as pd"
   ]
  },
  {
   "cell_type": "code",
   "execution_count": 8,
   "metadata": {
    "collapsed": true
   },
   "outputs": [],
   "source": [
    "train_img = []\n",
    "train_folder = \"./hw4_data/train/\"\n",
    "train_images_path = sorted(listdir(train_folder))\n",
    "for i in range(len(train_images_path)):\n",
    "    img = skimage.io.imread(os.path.join(train_folder, train_images_path[i]))\n",
    "    train_img.append(img)\n",
    "train_img = np.array(train_img)/255\n",
    "\n",
    "test_img = []\n",
    "test_folder = \"./hw4_data/test/\"\n",
    "test_images_path = sorted(listdir(test_folder))\n",
    "for i in range(len(test_images_path)):\n",
    "    img = skimage.io.imread(os.path.join(test_folder, test_images_path[i]))\n",
    "    test_img.append(img)\n",
    "\n",
    "test_img = np.array(test_img)/255\n",
    "\n",
    "train_img = train_img.transpose(0,3,1,2)\n",
    "test_img = test_img.transpose(0,3,1,2)\n",
    "print(\"train shape\",train_img.shape)\n",
    "print(\"test shape\", test_img.shape)\n",
    "\n",
    "np.save(\"train_img.npy\", train_img)\n",
    "np.save(\"test_img.npy\", test_img)"
   ]
  },
  {
   "cell_type": "code",
   "execution_count": 58,
   "metadata": {},
   "outputs": [
    {
     "name": "stdout",
     "output_type": "stream",
     "text": [
      "train shape (40000, 3, 64, 64)\n",
      "test shape (2621, 3, 64, 64)\n"
     ]
    }
   ],
   "source": [
    "train_img = []\n",
    "train_folder = \"./hw4_data/train/\"\n",
    "train_images_path = sorted(listdir(train_folder))\n",
    "for i in range(len(train_images_path)):\n",
    "    img = skimage.io.imread(os.path.join(train_folder, train_images_path[i]))\n",
    "    train_img.append(img)\n",
    "train_img = (np.array(train_img)/255)*2-1\n",
    "\n",
    "test_img = []\n",
    "test_folder = \"./hw4_data/test/\"\n",
    "test_images_path = sorted(listdir(test_folder))\n",
    "for i in range(len(test_images_path)):\n",
    "    img = skimage.io.imread(os.path.join(test_folder, test_images_path[i]))\n",
    "    test_img.append(img)\n",
    "\n",
    "test_img = (np.array(test_img)/255)*2-1\n",
    "\n",
    "train_img = train_img.transpose(0,3,1,2)\n",
    "test_img = test_img.transpose(0,3,1,2)\n",
    "print(\"train shape\",train_img.shape)\n",
    "print(\"test shape\", test_img.shape)\n",
    "\n",
    "np.save(\"train_img_2.npy\", train_img)\n",
    "np.save(\"test_img_2.npy\", test_img)"
   ]
  },
  {
   "cell_type": "code",
   "execution_count": 48,
   "metadata": {},
   "outputs": [
    {
     "name": "stdout",
     "output_type": "stream",
     "text": [
      "all img shape (42621, 3, 64, 64)\n"
     ]
    }
   ],
   "source": [
    "# for GAN\n",
    "all_img = []\n",
    "train_folder = \"./hw4_data/train/\"\n",
    "train_images_path = sorted(listdir(train_folder))\n",
    "for i in range(len(train_images_path)):\n",
    "    img = skimage.io.imread(os.path.join(train_folder, train_images_path[i]))\n",
    "    all_img.append(img)\n",
    "#     all_img.append(np.fliplr(img))\n",
    "\n",
    "test_folder = \"./hw4_data/test/\"\n",
    "test_images_path = sorted(listdir(test_folder))\n",
    "for i in range(len(test_images_path)):\n",
    "    img = skimage.io.imread(os.path.join(test_folder, test_images_path[i]))\n",
    "    all_img.append(img)\n",
    "#     all_img.append(np.fliplr(img))\n",
    "\n",
    "all_img = np.array(all_img)/255\n",
    "\n",
    "all_img = all_img.transpose(0,3,1,2)\n",
    "\n",
    "print(\"all img shape\",all_img.shape)\n",
    "\n",
    "np.save(\"all_img.npy\", all_img)"
   ]
  },
  {
   "cell_type": "markdown",
   "metadata": {
    "collapsed": true
   },
   "source": [
    "# attribute"
   ]
  },
  {
   "cell_type": "code",
   "execution_count": 5,
   "metadata": {
    "collapsed": true
   },
   "outputs": [],
   "source": [
    "train_attr = pd.read_csv(\"hw4_data/train.csv\")\n",
    "test_attr = pd.read_csv(\"hw4_data/test.csv\")"
   ]
  },
  {
   "cell_type": "code",
   "execution_count": 6,
   "metadata": {},
   "outputs": [
    {
     "data": {
      "text/plain": [
       "Index(['image_name', 'Bangs', 'Big_Lips', 'Black_Hair', 'Blond_Hair',\n",
       "       'Brown_Hair', 'Heavy_Makeup', 'High_Cheekbones', 'Male',\n",
       "       'Mouth_Slightly_Open', 'Smiling', 'Straight_Hair', 'Wavy_Hair',\n",
       "       'Wearing_Lipstick'],\n",
       "      dtype='object')"
      ]
     },
     "execution_count": 6,
     "metadata": {},
     "output_type": "execute_result"
    }
   ],
   "source": [
    "test_attr.columns"
   ]
  },
  {
   "cell_type": "code",
   "execution_count": null,
   "metadata": {
    "collapsed": true
   },
   "outputs": [],
   "source": [
    "test_gender = np.array(train_attr[\"Male\"])\n",
    "np.save(\"test_gender.npy\", test_gender)"
   ]
  },
  {
   "cell_type": "code",
   "execution_count": 45,
   "metadata": {},
   "outputs": [
    {
     "data": {
      "text/plain": [
       "16442.0"
      ]
     },
     "execution_count": 45,
     "metadata": {},
     "output_type": "execute_result"
    }
   ],
   "source": [
    "sum(np.array(train_attr[\"Smiling\"]))"
   ]
  },
  {
   "cell_type": "markdown",
   "metadata": {
    "collapsed": true
   },
   "source": [
    "# generate gif"
   ]
  },
  {
   "cell_type": "code",
   "execution_count": 3,
   "metadata": {},
   "outputs": [],
   "source": [
    "import imageio\n",
    "\n",
    "model_type = \"VAE\"\n",
    "images = []\n",
    "image_folder = model_type+\"_output/\"\n",
    "filenames = [os.path.join(image_folder, file) for file in listdir(image_folder) if file.split(\"_\")[1] == \"3\"]\n",
    "filenames =sorted(filenames)\n",
    "for filename in filenames:\n",
    "    images.append(imageio.imread(filename))\n",
    "imageio.mimsave('./gif/VAE_reconstruction.gif', images, duration=0.3)"
   ]
  },
  {
   "cell_type": "code",
   "execution_count": 5,
   "metadata": {
    "collapsed": true
   },
   "outputs": [],
   "source": [
    "import imageio\n",
    "model_type = \"InfoGAN\"\n",
    "images = []\n",
    "image_folder = model_type+\"_output/\"\n",
    "filenames = [os.path.join(image_folder, file) for file in listdir(image_folder) if file.endswith(\".jpg\")]\n",
    "filenames =sorted(filenames)\n",
    "for filename in filenames:\n",
    "    images.append(imageio.imread(filename))\n",
    "imageio.mimsave('./gif/'+model_type+'.gif', images, duration=0.3)"
   ]
  },
  {
   "cell_type": "code",
   "execution_count": null,
   "metadata": {
    "collapsed": true
   },
   "outputs": [],
   "source": []
  }
 ],
 "metadata": {
  "kernelspec": {
   "display_name": "Python 3",
   "language": "python",
   "name": "python3"
  },
  "language_info": {
   "codemirror_mode": {
    "name": "ipython",
    "version": 3
   },
   "file_extension": ".py",
   "mimetype": "text/x-python",
   "name": "python",
   "nbconvert_exporter": "python",
   "pygments_lexer": "ipython3",
   "version": "3.5.2"
  }
 },
 "nbformat": 4,
 "nbformat_minor": 2
}
